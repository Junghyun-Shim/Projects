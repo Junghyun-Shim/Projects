{
 "cells": [
  {
   "cell_type": "code",
   "execution_count": 1,
   "metadata": {},
   "outputs": [],
   "source": [
    "import pandas as pd\n",
    "import numpy as np"
   ]
  },
  {
   "cell_type": "code",
   "execution_count": 46,
   "metadata": {},
   "outputs": [],
   "source": [
    "df = pd.read_excel(\"../data/1911_교통카드_통계자료_하차.xls\",encoding='euc-kr')"
   ]
  },
  {
   "cell_type": "code",
   "execution_count": 6,
   "metadata": {},
   "outputs": [
    {
     "data": {
      "text/html": [
       "<div>\n",
       "<style scoped>\n",
       "    .dataframe tbody tr th:only-of-type {\n",
       "        vertical-align: middle;\n",
       "    }\n",
       "\n",
       "    .dataframe tbody tr th {\n",
       "        vertical-align: top;\n",
       "    }\n",
       "\n",
       "    .dataframe thead th {\n",
       "        text-align: right;\n",
       "    }\n",
       "</style>\n",
       "<table border=\"1\" class=\"dataframe\">\n",
       "  <thead>\n",
       "    <tr style=\"text-align: right;\">\n",
       "      <th></th>\n",
       "      <th>호선명</th>\n",
       "      <th>지하철역</th>\n",
       "      <th>04:00:00~04:59:59</th>\n",
       "      <th>05:00:00~05:59:59</th>\n",
       "      <th>06:00:00~06:59:59</th>\n",
       "      <th>07:00:00~07:59:59</th>\n",
       "      <th>08:00:00~08:59:59</th>\n",
       "      <th>09:00:00~09:59:59</th>\n",
       "      <th>10:00:00~10:59:59</th>\n",
       "      <th>11:00:00~11:59:59</th>\n",
       "      <th>...</th>\n",
       "      <th>18:00:00~18:59:59</th>\n",
       "      <th>19:00:00~19:59:59</th>\n",
       "      <th>20:00:00~20:59:59</th>\n",
       "      <th>21:00:00~21:59:59</th>\n",
       "      <th>22:00:00~22:59:59</th>\n",
       "      <th>23:00:00~23:59:59</th>\n",
       "      <th>00:00:00~00:59:59</th>\n",
       "      <th>01:00:00~01:59:59</th>\n",
       "      <th>02:00:00~02:59:59</th>\n",
       "      <th>03:00:00~03:59:59</th>\n",
       "    </tr>\n",
       "  </thead>\n",
       "  <tbody>\n",
       "    <tr>\n",
       "      <td>0</td>\n",
       "      <td>1호선</td>\n",
       "      <td>서울역</td>\n",
       "      <td>26</td>\n",
       "      <td>9,390</td>\n",
       "      <td>57,182</td>\n",
       "      <td>105,213</td>\n",
       "      <td>226,780</td>\n",
       "      <td>174,607</td>\n",
       "      <td>92,375</td>\n",
       "      <td>83,188</td>\n",
       "      <td>...</td>\n",
       "      <td>114,261</td>\n",
       "      <td>82,312</td>\n",
       "      <td>59,499</td>\n",
       "      <td>52,623</td>\n",
       "      <td>38,394</td>\n",
       "      <td>20,872</td>\n",
       "      <td>7,479</td>\n",
       "      <td>416</td>\n",
       "      <td>0</td>\n",
       "      <td>0</td>\n",
       "    </tr>\n",
       "    <tr>\n",
       "      <td>1</td>\n",
       "      <td>1호선</td>\n",
       "      <td>시청</td>\n",
       "      <td>2</td>\n",
       "      <td>4,294</td>\n",
       "      <td>23,460</td>\n",
       "      <td>65,801</td>\n",
       "      <td>203,319</td>\n",
       "      <td>102,175</td>\n",
       "      <td>54,826</td>\n",
       "      <td>53,796</td>\n",
       "      <td>...</td>\n",
       "      <td>34,605</td>\n",
       "      <td>18,177</td>\n",
       "      <td>10,180</td>\n",
       "      <td>8,747</td>\n",
       "      <td>7,080</td>\n",
       "      <td>4,414</td>\n",
       "      <td>1,419</td>\n",
       "      <td>38</td>\n",
       "      <td>0</td>\n",
       "      <td>0</td>\n",
       "    </tr>\n",
       "    <tr>\n",
       "      <td>2</td>\n",
       "      <td>1호선</td>\n",
       "      <td>종각</td>\n",
       "      <td>0</td>\n",
       "      <td>4,647</td>\n",
       "      <td>26,687</td>\n",
       "      <td>95,355</td>\n",
       "      <td>273,124</td>\n",
       "      <td>174,734</td>\n",
       "      <td>79,676</td>\n",
       "      <td>75,005</td>\n",
       "      <td>...</td>\n",
       "      <td>83,968</td>\n",
       "      <td>48,981</td>\n",
       "      <td>19,928</td>\n",
       "      <td>12,837</td>\n",
       "      <td>8,918</td>\n",
       "      <td>5,781</td>\n",
       "      <td>1,616</td>\n",
       "      <td>10</td>\n",
       "      <td>0</td>\n",
       "      <td>0</td>\n",
       "    </tr>\n",
       "    <tr>\n",
       "      <td>3</td>\n",
       "      <td>1호선</td>\n",
       "      <td>종로3가</td>\n",
       "      <td>10</td>\n",
       "      <td>2,998</td>\n",
       "      <td>14,703</td>\n",
       "      <td>27,630</td>\n",
       "      <td>79,010</td>\n",
       "      <td>90,688</td>\n",
       "      <td>78,378</td>\n",
       "      <td>85,676</td>\n",
       "      <td>...</td>\n",
       "      <td>63,449</td>\n",
       "      <td>37,239</td>\n",
       "      <td>15,594</td>\n",
       "      <td>11,110</td>\n",
       "      <td>9,014</td>\n",
       "      <td>6,152</td>\n",
       "      <td>2,757</td>\n",
       "      <td>51</td>\n",
       "      <td>0</td>\n",
       "      <td>0</td>\n",
       "    </tr>\n",
       "    <tr>\n",
       "      <td>4</td>\n",
       "      <td>1호선</td>\n",
       "      <td>종로5가</td>\n",
       "      <td>0</td>\n",
       "      <td>3,809</td>\n",
       "      <td>16,262</td>\n",
       "      <td>39,965</td>\n",
       "      <td>119,740</td>\n",
       "      <td>82,155</td>\n",
       "      <td>64,868</td>\n",
       "      <td>69,477</td>\n",
       "      <td>...</td>\n",
       "      <td>42,113</td>\n",
       "      <td>26,629</td>\n",
       "      <td>12,025</td>\n",
       "      <td>8,598</td>\n",
       "      <td>6,019</td>\n",
       "      <td>3,768</td>\n",
       "      <td>1,119</td>\n",
       "      <td>4</td>\n",
       "      <td>0</td>\n",
       "      <td>0</td>\n",
       "    </tr>\n",
       "  </tbody>\n",
       "</table>\n",
       "<p>5 rows × 26 columns</p>\n",
       "</div>"
      ],
      "text/plain": [
       "   호선명  지하철역  04:00:00~04:59:59 05:00:00~05:59:59 06:00:00~06:59:59  \\\n",
       "0  1호선   서울역                 26             9,390            57,182   \n",
       "1  1호선    시청                  2             4,294            23,460   \n",
       "2  1호선    종각                  0             4,647            26,687   \n",
       "3  1호선  종로3가                 10             2,998            14,703   \n",
       "4  1호선  종로5가                  0             3,809            16,262   \n",
       "\n",
       "  07:00:00~07:59:59 08:00:00~08:59:59 09:00:00~09:59:59 10:00:00~10:59:59  \\\n",
       "0           105,213           226,780           174,607            92,375   \n",
       "1            65,801           203,319           102,175            54,826   \n",
       "2            95,355           273,124           174,734            79,676   \n",
       "3            27,630            79,010            90,688            78,378   \n",
       "4            39,965           119,740            82,155            64,868   \n",
       "\n",
       "  11:00:00~11:59:59  ... 18:00:00~18:59:59 19:00:00~19:59:59  \\\n",
       "0            83,188  ...           114,261            82,312   \n",
       "1            53,796  ...            34,605            18,177   \n",
       "2            75,005  ...            83,968            48,981   \n",
       "3            85,676  ...            63,449            37,239   \n",
       "4            69,477  ...            42,113            26,629   \n",
       "\n",
       "  20:00:00~20:59:59 21:00:00~21:59:59 22:00:00~22:59:59 23:00:00~23:59:59  \\\n",
       "0            59,499            52,623            38,394            20,872   \n",
       "1            10,180             8,747             7,080             4,414   \n",
       "2            19,928            12,837             8,918             5,781   \n",
       "3            15,594            11,110             9,014             6,152   \n",
       "4            12,025             8,598             6,019             3,768   \n",
       "\n",
       "  00:00:00~00:59:59 01:00:00~01:59:59 02:00:00~02:59:59 03:00:00~03:59:59  \n",
       "0             7,479               416                 0                 0  \n",
       "1             1,419                38                 0                 0  \n",
       "2             1,616                10                 0                 0  \n",
       "3             2,757                51                 0                 0  \n",
       "4             1,119                 4                 0                 0  \n",
       "\n",
       "[5 rows x 26 columns]"
      ]
     },
     "execution_count": 6,
     "metadata": {},
     "output_type": "execute_result"
    }
   ],
   "source": [
    "df.head()"
   ]
  },
  {
   "cell_type": "code",
   "execution_count": 47,
   "metadata": {},
   "outputs": [],
   "source": [
    "df2 = df[df['지하철역'].isin(['서울역', '서대문', '시청', '을지로입구', '명동', '을지로4가', '을지로3가', '회현', '약수', '동대문역사문화공원', '동대입구', '신당', '종각', '버티고개', '충무로'])]"
   ]
  },
  {
   "cell_type": "code",
   "execution_count": 28,
   "metadata": {},
   "outputs": [
    {
     "data": {
      "text/html": [
       "<div>\n",
       "<style scoped>\n",
       "    .dataframe tbody tr th:only-of-type {\n",
       "        vertical-align: middle;\n",
       "    }\n",
       "\n",
       "    .dataframe tbody tr th {\n",
       "        vertical-align: top;\n",
       "    }\n",
       "\n",
       "    .dataframe thead th {\n",
       "        text-align: right;\n",
       "    }\n",
       "</style>\n",
       "<table border=\"1\" class=\"dataframe\">\n",
       "  <thead>\n",
       "    <tr style=\"text-align: right;\">\n",
       "      <th></th>\n",
       "      <th>호선명</th>\n",
       "      <th>지하철역</th>\n",
       "      <th>4</th>\n",
       "      <th>5</th>\n",
       "      <th>6</th>\n",
       "      <th>07:00:00~07:59:59</th>\n",
       "      <th>08:00:00~08:59:59</th>\n",
       "      <th>09:00:00~09:59:59</th>\n",
       "      <th>10:00:00~10:59:59</th>\n",
       "      <th>11:00:00~11:59:59</th>\n",
       "      <th>...</th>\n",
       "      <th>18:00:00~18:59:59</th>\n",
       "      <th>19:00:00~19:59:59</th>\n",
       "      <th>20:00:00~20:59:59</th>\n",
       "      <th>21:00:00~21:59:59</th>\n",
       "      <th>22:00:00~22:59:59</th>\n",
       "      <th>23:00:00~23:59:59</th>\n",
       "      <th>00:00:00~00:59:59</th>\n",
       "      <th>01:00:00~01:59:59</th>\n",
       "      <th>02:00:00~02:59:59</th>\n",
       "      <th>03:00:00~03:59:59</th>\n",
       "    </tr>\n",
       "  </thead>\n",
       "  <tbody>\n",
       "    <tr>\n",
       "      <td>0</td>\n",
       "      <td>1호선</td>\n",
       "      <td>서울역</td>\n",
       "      <td>26</td>\n",
       "      <td>9,390</td>\n",
       "      <td>57,182</td>\n",
       "      <td>105,213</td>\n",
       "      <td>226,780</td>\n",
       "      <td>174,607</td>\n",
       "      <td>92,375</td>\n",
       "      <td>83,188</td>\n",
       "      <td>...</td>\n",
       "      <td>114,261</td>\n",
       "      <td>82,312</td>\n",
       "      <td>59,499</td>\n",
       "      <td>52,623</td>\n",
       "      <td>38,394</td>\n",
       "      <td>20,872</td>\n",
       "      <td>7,479</td>\n",
       "      <td>416</td>\n",
       "      <td>0</td>\n",
       "      <td>0</td>\n",
       "    </tr>\n",
       "    <tr>\n",
       "      <td>1</td>\n",
       "      <td>1호선</td>\n",
       "      <td>시청</td>\n",
       "      <td>2</td>\n",
       "      <td>4,294</td>\n",
       "      <td>23,460</td>\n",
       "      <td>65,801</td>\n",
       "      <td>203,319</td>\n",
       "      <td>102,175</td>\n",
       "      <td>54,826</td>\n",
       "      <td>53,796</td>\n",
       "      <td>...</td>\n",
       "      <td>34,605</td>\n",
       "      <td>18,177</td>\n",
       "      <td>10,180</td>\n",
       "      <td>8,747</td>\n",
       "      <td>7,080</td>\n",
       "      <td>4,414</td>\n",
       "      <td>1,419</td>\n",
       "      <td>38</td>\n",
       "      <td>0</td>\n",
       "      <td>0</td>\n",
       "    </tr>\n",
       "    <tr>\n",
       "      <td>2</td>\n",
       "      <td>1호선</td>\n",
       "      <td>종각</td>\n",
       "      <td>0</td>\n",
       "      <td>4,647</td>\n",
       "      <td>26,687</td>\n",
       "      <td>95,355</td>\n",
       "      <td>273,124</td>\n",
       "      <td>174,734</td>\n",
       "      <td>79,676</td>\n",
       "      <td>75,005</td>\n",
       "      <td>...</td>\n",
       "      <td>83,968</td>\n",
       "      <td>48,981</td>\n",
       "      <td>19,928</td>\n",
       "      <td>12,837</td>\n",
       "      <td>8,918</td>\n",
       "      <td>5,781</td>\n",
       "      <td>1,616</td>\n",
       "      <td>10</td>\n",
       "      <td>0</td>\n",
       "      <td>0</td>\n",
       "    </tr>\n",
       "    <tr>\n",
       "      <td>10</td>\n",
       "      <td>2호선</td>\n",
       "      <td>시청</td>\n",
       "      <td>1</td>\n",
       "      <td>1,769</td>\n",
       "      <td>15,780</td>\n",
       "      <td>62,292</td>\n",
       "      <td>236,457</td>\n",
       "      <td>101,704</td>\n",
       "      <td>36,598</td>\n",
       "      <td>34,411</td>\n",
       "      <td>...</td>\n",
       "      <td>29,620</td>\n",
       "      <td>16,423</td>\n",
       "      <td>9,247</td>\n",
       "      <td>8,655</td>\n",
       "      <td>7,984</td>\n",
       "      <td>5,539</td>\n",
       "      <td>1,836</td>\n",
       "      <td>125</td>\n",
       "      <td>1</td>\n",
       "      <td>0</td>\n",
       "    </tr>\n",
       "    <tr>\n",
       "      <td>11</td>\n",
       "      <td>2호선</td>\n",
       "      <td>을지로입구</td>\n",
       "      <td>0</td>\n",
       "      <td>2,690</td>\n",
       "      <td>26,378</td>\n",
       "      <td>118,365</td>\n",
       "      <td>353,344</td>\n",
       "      <td>182,546</td>\n",
       "      <td>98,855</td>\n",
       "      <td>102,999</td>\n",
       "      <td>...</td>\n",
       "      <td>86,498</td>\n",
       "      <td>51,104</td>\n",
       "      <td>29,213</td>\n",
       "      <td>23,756</td>\n",
       "      <td>19,865</td>\n",
       "      <td>12,433</td>\n",
       "      <td>4,360</td>\n",
       "      <td>721</td>\n",
       "      <td>2</td>\n",
       "      <td>0</td>\n",
       "    </tr>\n",
       "  </tbody>\n",
       "</table>\n",
       "<p>5 rows × 26 columns</p>\n",
       "</div>"
      ],
      "text/plain": [
       "    호선명   지하철역   4      5       6 07:00:00~07:59:59 08:00:00~08:59:59  \\\n",
       "0   1호선    서울역  26  9,390  57,182           105,213           226,780   \n",
       "1   1호선     시청   2  4,294  23,460            65,801           203,319   \n",
       "2   1호선     종각   0  4,647  26,687            95,355           273,124   \n",
       "10  2호선     시청   1  1,769  15,780            62,292           236,457   \n",
       "11  2호선  을지로입구   0  2,690  26,378           118,365           353,344   \n",
       "\n",
       "   09:00:00~09:59:59 10:00:00~10:59:59 11:00:00~11:59:59  ...  \\\n",
       "0            174,607            92,375            83,188  ...   \n",
       "1            102,175            54,826            53,796  ...   \n",
       "2            174,734            79,676            75,005  ...   \n",
       "10           101,704            36,598            34,411  ...   \n",
       "11           182,546            98,855           102,999  ...   \n",
       "\n",
       "   18:00:00~18:59:59 19:00:00~19:59:59 20:00:00~20:59:59 21:00:00~21:59:59  \\\n",
       "0            114,261            82,312            59,499            52,623   \n",
       "1             34,605            18,177            10,180             8,747   \n",
       "2             83,968            48,981            19,928            12,837   \n",
       "10            29,620            16,423             9,247             8,655   \n",
       "11            86,498            51,104            29,213            23,756   \n",
       "\n",
       "   22:00:00~22:59:59 23:00:00~23:59:59 00:00:00~00:59:59 01:00:00~01:59:59  \\\n",
       "0             38,394            20,872             7,479               416   \n",
       "1              7,080             4,414             1,419                38   \n",
       "2              8,918             5,781             1,616                10   \n",
       "10             7,984             5,539             1,836               125   \n",
       "11            19,865            12,433             4,360               721   \n",
       "\n",
       "   02:00:00~02:59:59 03:00:00~03:59:59  \n",
       "0                  0                 0  \n",
       "1                  0                 0  \n",
       "2                  0                 0  \n",
       "10                 1                 0  \n",
       "11                 2                 0  \n",
       "\n",
       "[5 rows x 26 columns]"
      ]
     },
     "execution_count": 28,
     "metadata": {},
     "output_type": "execute_result"
    }
   ],
   "source": [
    "df2.head()"
   ]
  },
  {
   "cell_type": "code",
   "execution_count": 14,
   "metadata": {},
   "outputs": [],
   "source": [
    "import matplotlib.pyplot as plt\n",
    "import seaborn as sns\n",
    "%matplotlib inline\n",
    "import platform\n",
    "path = \"C:/Windows/Fonts/malgun.ttf\"\n",
    "from matplotlib import font_manager, rc\n",
    "if platform.system() == 'Darwin':\n",
    "    rc('font', family='AppleGothic')\n",
    "elif platform.system() == 'Windows':\n",
    "    path = 'c:/Windows/Fonts/malgun.ttf'\n",
    "    font_name = font_manager.FontProperties(fname=path).get_name()\n",
    "    rc('font', family=font_name)"
   ]
  },
  {
   "cell_type": "code",
   "execution_count": 52,
   "metadata": {},
   "outputs": [
    {
     "data": {
      "text/plain": [
       "<matplotlib.axes._subplots.AxesSubplot at 0x2d8e968eb08>"
      ]
     },
     "execution_count": 52,
     "metadata": {},
     "output_type": "execute_result"
    },
    {
     "data": {
      "image/png": "[encoded data removed]",
      "text/plain": [
       "<Figure size 432x288 with 1 Axes>"
      ]
     },
     "metadata": {
      "needs_background": "light"
     },
     "output_type": "display_data"
    }
   ],
   "source": [
    "df2.plot('지하철역', 6)"
   ]
  },
  {
   "cell_type": "code",
   "execution_count": 25,
   "metadata": {},
   "outputs": [
    {
     "data": {
      "text/plain": [
       "<matplotlib.axes._subplots.AxesSubplot at 0x2d8e6b96f08>"
      ]
     },
     "execution_count": 25,
     "metadata": {},
     "output_type": "execute_result"
    },
    {
     "data": {
      "image/png": "[encoded data removed]",
      "text/plain": [
       "<Figure size 432x288 with 1 Axes>"
      ]
     },
     "metadata": {
      "needs_background": "light"
     },
     "output_type": "display_data"
    }
   ],
   "source": [
    "df2.plot.bar(grid=True)"
   ]
  },
  {
   "cell_type": "code",
   "execution_count": 49,
   "metadata": {},
   "outputs": [
    {
     "data": {
      "text/plain": [
       "<matplotlib.axes._subplots.AxesSubplot at 0x2d8e742c448>"
      ]
     },
     "execution_count": 49,
     "metadata": {},
     "output_type": "execute_result"
    },
    {
     "data": {
      "image/png": "[encoded data removed]",
      "text/plain": [
       "<Figure size 432x288 with 1 Axes>"
      ]
     },
     "metadata": {
      "needs_background": "light"
     },
     "output_type": "display_data"
    }
   ],
   "source": [
    "df2.plot()"
   ]
  },
  {
   "cell_type": "code",
   "execution_count": 63,
   "metadata": {},
   "outputs": [
    {
     "data": {
      "text/plain": [
       "<matplotlib.legend.Legend at 0x2d8eac34988>"
      ]
     },
     "execution_count": 63,
     "metadata": {},
     "output_type": "execute_result"
    },
    {
     "data": {
      "image/png": "[encoded data removed]",
      "text/plain": [
       "<Figure size 432x288 with 1 Axes>"
      ]
     },
     "metadata": {
      "needs_background": "light"
     },
     "output_type": "display_data"
    }
   ],
   "source": [
    "a = df2.plot.line('지하철역', 4, color='green')\n",
    "a2 = df2.plot.line('지하철역', 5, ax=a, color='red')\n",
    "\n",
    "a2.legend()"
   ]
  },
  {
   "cell_type": "code",
   "execution_count": null,
   "metadata": {},
   "outputs": [],
   "source": []
  }
 ],
 "metadata": {
  "kernelspec": {
   "display_name": "Python 3",
   "language": "python",
   "name": "python3"
  },
  "language_info": {
   "codemirror_mode": {
    "name": "ipython",
    "version": 3
   },
   "file_extension": ".py",
   "mimetype": "text/x-python",
   "name": "python",
   "nbconvert_exporter": "python",
   "pygments_lexer": "ipython3",
   "version": "3.7.4"
  }
 },
 "nbformat": 4,
 "nbformat_minor": 2
}
