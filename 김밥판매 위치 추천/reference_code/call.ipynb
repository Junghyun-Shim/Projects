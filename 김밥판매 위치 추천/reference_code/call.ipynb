{
 "cells": [
  {
   "cell_type": "code",
   "execution_count": null,
   "metadata": {},
   "outputs": [],
   "source": [
    "import pandas as pd\n",
    "import numpy as np\n",
    "import random\n",
    "from datetime import datetime\n",
    "import sys\n",
    "import threading #쓰레드 타이머용\n",
    "import socket\n",
    "\n",
    "def call():\n",
    "    user = random.randint(1,30000)\n",
    "    La = 126 + (random.randint(7092153,12052030))/10000000    #위도(Latitude)  126.7092153 < La < 127.1205203\n",
    "    Lo = 37 + (random.randint(4028990,5949738))/10000000      #경도(Longitude)  37.402899 < Lo <37.5949738\n",
    "    now = datetime.now()\n",
    "    now_result = now.strftime(\"%Y-%m-%d %H:%M:%S\")\n",
    "    data = \"{0},{1},{2},{3}\".format(user, Lo, La, now_result)\n",
    "    return data\n",
    "\n",
    "def thread_run():\n",
    "    data_result = call()\n",
    "    file = open('/data/stats/2019-10-27/22/access_log.1572182828808.log','at')\n",
    "    file.write(data_result)\n",
    "    file.close\n",
    "    threading.Timer(3,thread_run).start()\n",
    "    \n",
    "thread_run()"
   ]
  }
 ],
 "metadata": {
  "kernelspec": {
   "display_name": "Python 3",
   "language": "python",
   "name": "python3"
  },
  "language_info": {
   "codemirror_mode": {
    "name": "ipython",
    "version": 3
   },
   "file_extension": ".py",
   "mimetype": "text/x-python",
   "name": "python",
   "nbconvert_exporter": "python",
   "pygments_lexer": "ipython3",
   "version": "3.7.3"
  }
 },
 "nbformat": 4,
 "nbformat_minor": 2
}
